{
 "cells": [
  {
   "cell_type": "code",
   "execution_count": 6,
   "id": "347ace04",
   "metadata": {
    "pycharm": {
     "name": "#%%\n"
    }
   },
   "outputs": [],
   "source": [
    "# 原始声音文件路径\n",
    "__CORPUSPATH__ = \"voice\"\n",
    "\n",
    "# 处理后的路径\n",
    "__OUTPATH__ = \"data\""
   ]
  },
  {
   "cell_type": "code",
   "execution_count": 7,
   "id": "4ce9eb2e",
   "metadata": {
    "pycharm": {
     "name": "#%%\n"
    }
   },
   "outputs": [],
   "source": [
    "from pydub import AudioSegment\n",
    "from pydub.silence import split_on_silence\n",
    "import os\n",
    "\n",
    "def split(sound):\n",
    "    dBFS = sound.dBFS\n",
    "    chunks = split_on_silence(sound,\n",
    "        min_silence_len = 100,\n",
    "        silence_thresh = dBFS-16,\n",
    "        keep_silence = 100\n",
    "    )\n",
    "    return chunks\n",
    "\n",
    "def combine(_src):\n",
    "    audio = AudioSegment.empty()\n",
    "    for i,filename in enumerate(os.listdir(_src)):\n",
    "        if filename.endswith('.wav'):\n",
    "            filename = os.path.join(_src, filename)\n",
    "            audio += AudioSegment.from_wav(filename)\n",
    "    return audio\n",
    "\n",
    "def save_chunks(chunks, directory):\n",
    "    if not os.path.exists(directory):\n",
    "        os.makedirs(directory)\n",
    "    counter = 0\n",
    "\n",
    "    target_length = 5 * 1000\n",
    "    output_chunks = [chunks[0]]\n",
    "    for chunk in chunks[1:]:\n",
    "        if len(output_chunks[-1]) < target_length:\n",
    "            output_chunks[-1] += chunk\n",
    "        else:\n",
    "            # if the last output chunk is longer than the target length,\n",
    "            # we can start a new one\n",
    "            output_chunks.append(chunk)\n",
    "\n",
    "    for chunk in output_chunks:\n",
    "        chunk = chunk.set_frame_rate(24000)\n",
    "        chunk = chunk.set_channels(1)\n",
    "        counter = counter + 1\n",
    "        chunk.export(os.path.join(directory, str(counter) + '.wav'), format=\"wav\")"
   ]
  },
  {
   "cell_type": "code",
   "execution_count": 9,
   "id": "9302fb6a",
   "metadata": {
    "pycharm": {
     "name": "#%%\n"
    }
   },
   "outputs": [],
   "source": [
    "# downsample to 24 kHz\n",
    "# 直接在这里运行即可把所有的音频转换\n",
    "for p in range(1,21):\n",
    "    directory = __OUTPATH__ + '/' + str(p)\n",
    "    if not os.path.exists(directory):\n",
    "        audio = combine(__CORPUSPATH__ + '/' + str(p))\n",
    "        chunks = split(audio)\n",
    "        save_chunks(chunks, directory)"
   ]
  }
 ],
 "metadata": {
  "kernelspec": {
   "display_name": "Python 3",
   "language": "python",
   "name": "python3"
  },
  "language_info": {
   "codemirror_mode": {
    "name": "ipython",
    "version": 3
   },
   "file_extension": ".py",
   "mimetype": "text/x-python",
   "name": "python",
   "nbconvert_exporter": "python",
   "pygments_lexer": "ipython3",
   "version": "3.7.10"
  }
 },
 "nbformat": 4,
 "nbformat_minor": 5
}